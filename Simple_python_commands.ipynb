#Label Encoding

for i in cat_var:
    df_[i] = pd.factorize(df_[i])[0]
